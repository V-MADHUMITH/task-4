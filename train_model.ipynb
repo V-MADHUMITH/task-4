{
 "cells": [
  {
   "cell_type": "code",
   "execution_count": 1,
   "id": "ad4d375d-5f36-47ae-a474-2a63e2bc7a2e",
   "metadata": {},
   "outputs": [
    {
     "name": "stdout",
     "output_type": "stream",
     "text": [
      "Model Accuracy: 0.9623318385650225\n",
      "Training complete! Model saved as 'spam_model.pkl'.\n"
     ]
    }
   ],
   "source": [
    "import pandas as pd\n",
    "import joblib\n",
    "from sklearn.feature_extraction.text import TfidfVectorizer\n",
    "from sklearn.model_selection import train_test_split\n",
    "from sklearn.naive_bayes import MultinomialNB\n",
    "from sklearn.metrics import accuracy_score\n",
    "\n",
    "df = pd.read_csv(\"spam.csv\", encoding=\"latin-1\")[[\"v1\", \"v2\"]]\n",
    "df.columns = [\"label\", \"message\"]\n",
    "df[\"label\"] = df[\"label\"].map({\"ham\": 0, \"spam\": 1})\n",
    "X_train, X_test, y_train, y_test = train_test_split(df[\"message\"], df[\"label\"], test_size=0.2, random_state=42)\n",
    "vectorizer = TfidfVectorizer()\n",
    "X_train_tfidf = vectorizer.fit_transform(X_train)\n",
    "X_test_tfidf = vectorizer.transform(X_test)\n",
    "model = MultinomialNB()\n",
    "model.fit(X_train_tfidf, y_train)\n",
    "y_pred = model.predict(X_test_tfidf)\n",
    "print(\"Model Accuracy:\", accuracy_score(y_test, y_pred))\n",
    "joblib.dump(vectorizer, \"tfidf_vectorizer.pkl\")\n",
    "joblib.dump(model, \"spam_model.pkl\")\n",
    "\n",
    "print(\"Training complete! Model saved as 'spam_model.pkl'.\")\n"
   ]
  },
  {
   "cell_type": "code",
   "execution_count": 2,
   "id": "6ee984f3-d411-4da4-89d9-6ad0cbd022a3",
   "metadata": {},
   "outputs": [
    {
     "name": "stdout",
     "output_type": "stream",
     "text": [
      "Spam Detector is ready!\n"
     ]
    },
    {
     "name": "stdin",
     "output_type": "stream",
     "text": [
      "\n",
      "Enter a message to check (or type 'exit' to quit):  You have won a free lottery! Click here to claim.\n"
     ]
    },
    {
     "name": "stdout",
     "output_type": "stream",
     "text": [
      "Prediction: ✅ Not Spam\n"
     ]
    },
    {
     "name": "stdin",
     "output_type": "stream",
     "text": [
      "\n",
      "Enter a message to check (or type 'exit' to quit):  exit\n"
     ]
    },
    {
     "name": "stdout",
     "output_type": "stream",
     "text": [
      "Exiting spam detector. Goodbye!\n"
     ]
    }
   ],
   "source": [
    "import joblib\n",
    "vectorizer = joblib.load(\"tfidf_vectorizer.pkl\")\n",
    "model = joblib.load(\"spam_model.pkl\")\n",
    "\n",
    "print(\"Spam Detector is ready!\")\n",
    "\n",
    "while True:\n",
    "    user_message = input(\"\\nEnter a message to check (or type 'exit' to quit): \")\n",
    "    \n",
    "    if user_message.lower() == \"exit\":\n",
    "        print(\"Exiting spam detector. Goodbye!\")\n",
    "        break\n",
    "    message_tfidf = vectorizer.transform([user_message])\n",
    "    prediction = model.predict(message_tfidf)\n",
    "    print(\"Prediction:\", \"📩 Spam\" if prediction[0] == 1 else \"✅ Not Spam\")\n"
   ]
  },
  {
   "cell_type": "code",
   "execution_count": null,
   "id": "245d20fb-8337-48da-93d7-7fb788869175",
   "metadata": {},
   "outputs": [],
   "source": []
  }
 ],
 "metadata": {
  "kernelspec": {
   "display_name": "Python 3 (ipykernel)",
   "language": "python",
   "name": "python3"
  },
  "language_info": {
   "codemirror_mode": {
    "name": "ipython",
    "version": 3
   },
   "file_extension": ".py",
   "mimetype": "text/x-python",
   "name": "python",
   "nbconvert_exporter": "python",
   "pygments_lexer": "ipython3",
   "version": "3.11.9"
  }
 },
 "nbformat": 4,
 "nbformat_minor": 5
}
